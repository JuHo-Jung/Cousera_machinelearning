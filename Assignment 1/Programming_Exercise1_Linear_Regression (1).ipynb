{
  "nbformat": 4,
  "nbformat_minor": 0,
  "metadata": {
    "colab": {
      "name": "Programming Exercise1 : Linear Regression",
      "provenance": [],
      "collapsed_sections": []
    },
    "kernelspec": {
      "name": "python3",
      "display_name": "Python 3"
    }
  },
  "cells": [
    {
      "cell_type": "markdown",
      "metadata": {
        "id": "bDjuI_QN3Xge"
      },
      "source": [
        "정주호 (Ju Ho Jung)\r\n",
        "2021-01-27\r\n",
        "\r\n",
        "\r\n",
        "1. 강의 : Angrew Ng 교수의 코세라 강의 https://www.coursera.org/learn/machine-learning/\r\n",
        "\r\n",
        "2. Cousera Machine learning(Andrew Ng)의 강의 내용 정리 및 assignment \r\n",
        "\r\n",
        "3. 모든 자료(도표, 수식, 텍스트)는 해당 강의의 강의 내용 및 과제에서 가져왔음을 알린다.\r\n",
        "\r\n",
        "4. 모든 assignment는 Octave/MATLAB function으로 진행한다.\r\n"
      ]
    },
    {
      "cell_type": "markdown",
      "metadata": {
        "id": "nnpmtiG23j5V"
      },
      "source": [
        "**1. Simple Octave/MATLAB function**\r\n",
        "\r\n",
        "다음 코드를 채움으로써 5x5 identity 행렬을 반환하도록 수정하라\r\n",
        "\r\n",
        "A= eye(5)"
      ]
    },
    {
      "cell_type": "code",
      "metadata": {
        "colab": {
          "base_uri": "https://localhost:8080/"
        },
        "id": "VvycnUID1sr2",
        "outputId": "92ee288d-c138-4fdb-f1ce-616bbe40215f"
      },
      "source": [
        "import numpy as np\r\n",
        "import matplotlib.pyplot as plt\r\n",
        "\r\n",
        "def warmUpExercise():\r\n",
        "  '''5x5 identity 행렬을 반환하는 예제 함수'''\r\n",
        "\r\n",
        "  A = np.eye(5)\r\n",
        "\r\n",
        "  return A\r\n",
        "\r\n",
        "print('Running warmUpExercise...')\r\n",
        "print('5ㅌ5 Identity Matrix:')\r\n",
        "\r\n",
        "warmUpExercise()\r\n",
        "\r\n",
        "   "
      ],
      "execution_count": 2,
      "outputs": [
        {
          "output_type": "stream",
          "text": [
            "Running warmUpExercise...\n",
            "5ㅌ5 Identity Matrix:\n"
          ],
          "name": "stdout"
        },
        {
          "output_type": "execute_result",
          "data": {
            "text/plain": [
              "array([[1., 0., 0., 0., 0.],\n",
              "       [0., 1., 0., 0., 0.],\n",
              "       [0., 0., 1., 0., 0.],\n",
              "       [0., 0., 0., 1., 0.],\n",
              "       [0., 0., 0., 0., 1.]])"
            ]
          },
          "metadata": {
            "tags": []
          },
          "execution_count": 2
        }
      ]
    },
    {
      "cell_type": "markdown",
      "metadata": {
        "id": "vyr6rfUU6wi3"
      },
      "source": [
        "**2. Linear regression with one variable**\r\n",
        "\r\n",
        "하나의 변수를 가진 linear regression을 구현해서 음식 트럭의 이윤을 예측하기. \r\n",
        "\r\n",
        "파일 ex1data1.txt는 분석 데이터로 첫번째 컬럼은 도시의 인구수이고 두 번 째 컬럼은 해당 도시에서 음식 트럭의 이윤이다. 이윤에 대한 마이너스 값은 손실을 의미한다. \r\n",
        "\r\n",
        "\r\n",
        "**2.1 Plotting the Data**\r\n",
        "\r\n",
        "데이터를 이해하기 위해 데이터를 그래프로 그려보기. 이 데이터에 대해서는 이윤과 인구수 2가지 속성을 가지고 있기에 산점도를 그린다. "
      ]
    },
    {
      "cell_type": "code",
      "metadata": {
        "colab": {
          "base_uri": "https://localhost:8080/",
          "height": 298
        },
        "id": "RdOETFDz-Yat",
        "outputId": "c902083d-9448-4400-c650-38746672dc85"
      },
      "source": [
        "import pandas as pd\r\n",
        "\r\n",
        "\r\n",
        "def plotData(x, y):\r\n",
        "    \"\"\"\r\n",
        "    새로운 figure에 데이터 포인트 x와 y를 그린다.\r\n",
        "    인구수와 이윤에 대한 축 라벨을 준다.\r\n",
        "    \"\"\"\r\n",
        "\r\n",
        "    plt.figure() #새로운 figure 생산\r\n",
        "    # XXX: scatter(): 산점도를 그린다.\r\n",
        "    # c: 색상, s: 사이즈, marker: 표시모양\r\n",
        "    plt.scatter(x, y, marker='x', c='r', s=60)\r\n",
        "    plt.xlabel('population')\r\n",
        "    plt.ylabel('revenue')\r\n",
        "    #plt.show()\r\n",
        "\r\n",
        "# *************************************************************************\r\n",
        "# XXX: pandas에서 읽은 데이터는 항상 np.array 또는 np.matrix로 변환한다. \r\n",
        "# 그렇지 않으면 데이터 추출 시 TypeError: unhashable type: 'slice' 오류 발생함\r\n",
        "# pandas에서는 컬럼 추출 시 data[column_index]와 같은 식으로 사용한다.\r\n",
        "# *************************************************************************\r\n",
        "# data: 97x2\r\n",
        "# 첫번째 컬럼은 데이터 x, 두번째 컬럼은 label y\r\n",
        "# import pandas as pd\r\n",
        "#data = pd.read_csv('./ex1data1.txt', header=None)\r\n",
        "\r\n",
        "# ****************************************************\r\n",
        "# XXX: np.loadtxt(): , 로 구분된 텍스트 데이터 읽기\r\n",
        "# ****************************************************\r\n",
        "data = np.loadtxt('/content/ex1data1.txt', delimiter=',')\r\n",
        "\r\n",
        "X = data[:,0:1]\r\n",
        "y = data[:,1]\r\n",
        "m = np.size(X, 0) # == X.shape[0], np.shape(X)\r\n",
        "\r\n",
        "print(X.shape)\r\n",
        "plotData(X, y)"
      ],
      "execution_count": 3,
      "outputs": [
        {
          "output_type": "stream",
          "text": [
            "(97, 1)\n"
          ],
          "name": "stdout"
        },
        {
          "output_type": "display_data",
          "data": {
            "image/png": "[encoded data removed]",
            "text/plain": [
              "<Figure size 432x288 with 1 Axes>"
            ]
          },
          "metadata": {
            "tags": [],
            "needs_background": "light"
          }
        }
      ]
    },
    {
      "cell_type": "markdown",
      "metadata": {
        "id": "VnKecRH_5UDU"
      },
      "source": [
        "**2.2 Gradient Descent**\r\n",
        "\r\n",
        "Gradient Descent를 이용하여 데이터 셋에 대한 linear regression parameter 세타를 적절하게 구할 것이다.\r\n",
        "\r\n",
        "#Linear regression의 주 목적: cost function을 최소화 하기\r\n"
      ]
    },
    {
      "cell_type": "code",
      "metadata": {
        "colab": {
          "base_uri": "https://localhost:8080/"
        },
        "id": "bGM2mKU16EN6",
        "outputId": "67c37cfd-e243-414b-9e15-56c06ee258f6"
      },
      "source": [
        "# =================== Part 3: Gradient descent ===================\r\n",
        "\r\n",
        "# ********************************************************************\r\n",
        "# XXX: np.ones 사용 시 생성할 매트릭스 포맷을 그대로 전달하게끔 습관화한다.\r\n",
        "# np.ones, hstack 모두 인자를 하나만 받는다. ex: np.ones(a), hstack(b)\r\n",
        "# ********************************************************************\r\n",
        "# 절편(intercept) 항목을 추가한다.\r\n",
        "\r\n",
        "print('Running Gradient Descent ...')\r\n",
        "\r\n",
        "# 미리 절편이 추가될 컬럼을 포함한 행렬을 준비하고...\r\n",
        "X = np.zeros((m, 2)) #m은 X의 사이즈\r\n",
        "X[:, 0] = np.ones(m) # 1의 컬럼을 X에 추가한다.\r\n",
        "X[:, 1] = data[:, 0] # fitting 파라미터를 초기화한다.\r\n",
        "\r\n",
        "# 아래 코드도 같은 결과임.\r\n",
        "#X = hstack((np.ones((m, 1)), data[:, 0]))\r\n",
        "theta = np.zeros(2)"
      ],
      "execution_count": 4,
      "outputs": [
        {
          "output_type": "stream",
          "text": [
            "Running Gradient Descent ...\n"
          ],
          "name": "stdout"
        }
      ]
    },
    {
      "cell_type": "code",
      "metadata": {
        "colab": {
          "base_uri": "https://localhost:8080/"
        },
        "id": "b3SfOw0p7tet",
        "outputId": "a78c57f2-c2d0-4d6f-9b6f-211658117e06"
      },
      "source": [
        "def computeCost(X, y, theta):\r\n",
        "    \"\"\"\r\n",
        "    linear regression에 대한 비용 cost를 계산한다.\r\n",
        "    X와 y에 있는 데이터 포인트를 fit 시키기 위해서 \r\n",
        "    theta를 linear regression에 대한 파라미터로 사용하고 비용을 계산한다.\r\n",
        "    \"\"\"\r\n",
        "    # 유용한 값들을 초기화 한다.\r\n",
        "    m, n = X.shape\r\n",
        "    \r\n",
        "    # 아래 변수를 올바르게 반환해야 한다.\r\n",
        "    J = 0\r\n",
        "    \r\n",
        "    # ====================== YOUR CODE HERE ======================\r\n",
        "    # 특정 theta에 대한 cost를 계산한다.\r\n",
        "    # J를 cost로 설정해야 한다.\r\n",
        "    \r\n",
        "    # X: 97x2, theta: 2x1\r\n",
        "    prediction = X.dot(theta)\r\n",
        "\r\n",
        "    # XXX: 실수 연산할 때는 반드시 실수를 사용한다. 예: 2(X), 2.0(O)\r\n",
        "    error = (prediction - y)#에러=예측값과 관측값의 차이\r\n",
        "    J = 1 / (2.0 * m) * np.sum(error ** 2) #손실함수\r\n",
        "    \r\n",
        "    return J\r\n",
        "\r\n",
        "# 몇 가지 gradient descent 설정을 한다.\r\n",
        "iterations = 1500\r\n",
        "alpha = 0.01\r\n",
        "\r\n",
        "# 초기값을 계산하고 표시한다.\r\n",
        "ans = computeCost(X, y, theta)\r\n",
        "\r\n",
        "print('ans = %0.3f' % ans)\r\n",
        "# 답: 32.073"
      ],
      "execution_count": 5,
      "outputs": [
        {
          "output_type": "stream",
          "text": [
            "ans = 32.073\n"
          ],
          "name": "stdout"
        }
      ]
    },
    {
      "cell_type": "code",
      "metadata": {
        "colab": {
          "base_uri": "https://localhost:8080/"
        },
        "id": "nu5aD0wo9On5",
        "outputId": "1e8308cb-42ec-4178-a7df-9d5f93bb7d4a"
      },
      "source": [
        "# You should now submit your solutions.\r\n",
        "\r\n",
        "def gradientDescent(X, y, theta, alpha, num_iters): \r\n",
        "    \"\"\"\r\n",
        "    theta를 학습하기 위해 gradient descent를 수행한다.\r\n",
        "    theta를 업데이트 하는데, num_iters 만큼 learning rate alpha를\r\n",
        "    가진 gradient 단계를 수행한다.\r\n",
        "    \"\"\"\r\n",
        "    \r\n",
        "    # 몇 가지 유용한 값을 초기화한다.\r\n",
        "    m = np.size(y)\r\n",
        "    J_history = np.zeros(num_iters)\r\n",
        "    \r\n",
        "    # ====================== YOUR CODE HERE ======================\r\n",
        "    # 지시사항: 파라미터 벡터 theta 상에서 하나의 gradient 단계를 수행한다.\r\n",
        "    # Hint: 디버깅하는 동안, cost function (computeCost)와 gradient를\r\n",
        "    # 여기서 출력해보는 것은 도움이 될 수 있다.\r\n",
        "    \r\n",
        "    for iter in range(num_iters):  #num_iters만큼의횟수로 반복한다\r\n",
        "        \r\n",
        "        prediction = X.dot(theta) #예측값=X와세타의 행렬곱\r\n",
        "        error = prediction - y #에러=예측값-관측값\r\n",
        "        \r\n",
        "        delta = (1.0 / m) * error.T.dot(X) #손실함수를세타에관해미분한값\r\n",
        "        theta = theta - alpha * delta.T #매번세타를업데이트한다.미분한값을빼면서\r\n",
        "        \r\n",
        "        J_history[iter] = computeCost(X, y, theta) #모든세타들의배열\r\n",
        "        \r\n",
        "    return theta, J_history\r\n",
        "\r\n",
        "# gradient descent를 실행한다.\r\n",
        "theta, j = gradientDescent(X, y, theta, alpha, iterations)\r\n",
        "\r\n",
        "print('Theta found by gradient descent: %f %f' % (theta[0], theta[1]))\r\n",
        "\r\n",
        "\"\"\"\r\n",
        "In Octave/MATLAB: \r\n",
        "\r\n",
        "Theta found by gradient descent: -3.630291 1.166362\r\n",
        "\"\"\"\r\n",
        "    \r\n",
        "# 최소비용\r\n",
        "j[-1] #제일마지막에업데이트된세타가최적의세타"
      ],
      "execution_count": 6,
      "outputs": [
        {
          "output_type": "stream",
          "text": [
            "Theta found by gradient descent: -3.630291 1.166362\n"
          ],
          "name": "stdout"
        },
        {
          "output_type": "execute_result",
          "data": {
            "text/plain": [
              "4.483388256587725"
            ]
          },
          "metadata": {
            "tags": []
          },
          "execution_count": 6
        }
      ]
    },
    {
      "cell_type": "code",
      "metadata": {
        "colab": {
          "base_uri": "https://localhost:8080/",
          "height": 298
        },
        "id": "HAR55Wf_-aI3",
        "outputId": "b6e0e7be-0da8-49b4-aa35-35605bc30a50"
      },
      "source": [
        "# linear fit을 plot한다.\r\n",
        "\r\n",
        "plotData(X[:, 1], y) # 이전 산점도를 그대로 그린다.\r\n",
        "\r\n",
        "plt.plot(X[:,1], X.dot(theta), '-')\r\n",
        "plt.legend(('Linear regression', 'Training data'))\r\n",
        "#plt.axis([5, 25, -5, 25]) # 임의로 추가함"
      ],
      "execution_count": 7,
      "outputs": [
        {
          "output_type": "execute_result",
          "data": {
            "text/plain": [
              "<matplotlib.legend.Legend at 0x7f66aa5e6908>"
            ]
          },
          "metadata": {
            "tags": []
          },
          "execution_count": 7
        },
        {
          "output_type": "display_data",
          "data": {
            "image/png": "[encoded data removed]",
            "text/plain": [
              "<Figure size 432x288 with 1 Axes>"
            ]
          },
          "metadata": {
            "tags": [],
            "needs_background": "light"
          }
        }
      ]
    },
    {
      "cell_type": "code",
      "metadata": {
        "colab": {
          "base_uri": "https://localhost:8080/"
        },
        "id": "ws_rPvdA-3se",
        "outputId": "b1a4d7d5-58ff-4541-f68d-e8e9e2fdf255"
      },
      "source": [
        "# 인구수의 크기가 35,000 그리고 70,000 일때 예측한다.\r\n",
        "predict1 = np.sum([1, 3.5] * theta)\r\n",
        "print('For population = 35,000, we predict a profit of %f' % (predict1 * 10000))\r\n",
        "predict2 = np.sum([1, 7] * theta)\r\n",
        "print('For population = 70,000, we predict a profit of %f' % (predict2 * 10000))\r\n",
        "\r\n",
        "\"\"\"\r\n",
        "For population = 35,000, we predict a profit of 4519.767868\r\n",
        "For population = 70,000, we predict a profit of 45342.450129\r\n",
        "\"\"\"\r\n",
        "print"
      ],
      "execution_count": 8,
      "outputs": [
        {
          "output_type": "stream",
          "text": [
            "For population = 35,000, we predict a profit of 4519.767868\n",
            "For population = 70,000, we predict a profit of 45342.450129\n"
          ],
          "name": "stdout"
        },
        {
          "output_type": "execute_result",
          "data": {
            "text/plain": [
              "<function print>"
            ]
          },
          "metadata": {
            "tags": []
          },
          "execution_count": 8
        }
      ]
    },
    {
      "cell_type": "markdown",
      "metadata": {
        "id": "TFo-BZxW_KZx"
      },
      "source": [
        "**2.3 Debugging**\r\n",
        "\r\n",
        "1. Octave/MATLAB 배열은 0이 아닌 1부터 인덱스가 시작한다. 만약 theta로 불리는 벡터에 theta0, theta1을 저장한다면 값은 theta(1), tehat(2)가 될 것이다.\r\n",
        "\r\n",
        "2.  matrix 연산을 검사해서 matrix 를 더하고 곱할 때 dimension이 일치하는지 확인해야 한다\r\n",
        "---- size함수를 이용하여 차원을 확인한다-\r\n",
        "\r\n",
        "3. 기본적으로 Octave/MATLAB은 수학 연산을 matrix 연산으로 해석한다. 만약 행렬 곱셈을 원하지 않는다면 \"dot\" 표시를 추가할 필요가 있다. 예를 들어, A B는 행렬 곱셈이고, A . B는 요소 곱셈이다. (역주: python에서는 np.array에서 내적은 A.dot(B)로 하고 np.matrix에서는 A * B로 한다.)"
      ]
    },
    {
      "cell_type": "code",
      "metadata": {
        "colab": {
          "base_uri": "https://localhost:8080/",
          "height": 568
        },
        "id": "dQwJPQ5PA0rh",
        "outputId": "12c2881a-9c61-42da-bfab-7b8006404d2f"
      },
      "source": [
        "# TODO: 아래 그래프는 작업 중\r\n",
        "\r\n",
        "## ============= Part 4: Visualizing J(theta_0, theta_1) =============\r\n",
        "print('Visualizing J(theta_0, theta_1) ...')\r\n",
        "\r\n",
        "# J를 계산하게 될 그리드\r\n",
        "theta0_vals = np.linspace(-10, 10, 100)\r\n",
        "theta1_vals = np.linspace(-1, 4, 100)\r\n",
        "\r\n",
        "# J_vals를 0으로 초기화된 매트릭스로 구성한다.\r\n",
        "J_vals = np.zeros((np.size(theta0_vals), np.size(theta1_vals)))\r\n",
        "\r\n",
        "# J_vals값을 채운다.\r\n",
        "for i in np.arange(np.size(theta0_vals)):\r\n",
        "    for j in np.arange(np.size(theta1_vals)):\r\n",
        "        t = [theta0_vals[i], theta1_vals[j]]\r\n",
        "        J_vals[i, j] = computeCost(X, y, t)\r\n",
        "        \r\n",
        "# surf 명령어에서 meshgrids가 동작하는 방식때문에, surf를 호출하기 전에 \r\n",
        "# J_vals값을 전치시킬 필요가 있다. 그렇지 않으면 축이 뒤집어 질 것이다.\r\n",
        "J_vals = J_vals.T\r\n",
        "\r\n",
        "from mpl_toolkits.mplot3d import Axes3D\r\n",
        "fig = plt.figure()\r\n",
        "ax = fig.add_subplot(111, projection='3d')\r\n",
        "ax.plot_surface(theta0_vals, theta1_vals, J_vals)\r\n",
        "plt.show()\r\n",
        "\r\n",
        "# Contour plot\r\n",
        "plt.contour(theta0_vals, theta1_vals, J_vals, np.logspace(-2, 3, 20))\r\n",
        "#plt.contour(theta0_vals, theta1_vals, J_vals)\r\n",
        "plt.xlabel('theta_0')\r\n",
        "plt.ylabel('theta_1')\r\n",
        "\r\n",
        "plt.plot(theta[0], theta[1], 'rx');\r\n",
        "plt.show()\r\n",
        "\r\n",
        "print('theta1 = %f, theta2 = %f' % (theta[0], theta[1]))\r\n",
        "\r\n",
        "\"\"\"\r\n",
        "In Octave:\r\n",
        "\r\n",
        "theta1 = -3.630291, theta2 = 1.166362\r\n",
        "\"\"\"\r\n",
        "print()"
      ],
      "execution_count": 9,
      "outputs": [
        {
          "output_type": "stream",
          "text": [
            "Visualizing J(theta_0, theta_1) ...\n"
          ],
          "name": "stdout"
        },
        {
          "output_type": "display_data",
          "data": {
            "image/png": "[encoded data removed]",
            "text/plain": [
              "<Figure size 432x288 with 1 Axes>"
            ]
          },
          "metadata": {
            "tags": [],
            "needs_background": "light"
          }
        },
        {
          "output_type": "display_data",
          "data": {
            "image/png": "[encoded data removed]",
            "text/plain": [
              "<Figure size 432x288 with 1 Axes>"
            ]
          },
          "metadata": {
            "tags": [],
            "needs_background": "light"
          }
        },
        {
          "output_type": "stream",
          "text": [
            "theta1 = -3.630291, theta2 = 1.166362\n",
            "\n"
          ],
          "name": "stdout"
        }
      ]
    },
    {
      "cell_type": "markdown",
      "metadata": {
        "id": "mbsXDLyuy9Lz"
      },
      "source": [
        "**3. Linear regression with multiple variables**\r\n",
        "\r\n",
        "이번엔 다변수 linear regression을 구현하고 집값을 예측한다. 최근에 판매된 집에 대한 정보를 먼저 수집하고 집의 판매 가격을 예측하는 모델을 만들어 보는 것이다.\r\n",
        "\r\n",
        "파일 ex1data2.txt는 오레콘주 포틀랜드에 있는 집의 판매가격에 대한 training set을 포함하고 있다. 첫번째 컬럼은 집의 크기(평방 피트)이고, 두번째 컬럼은 침실의 숫자이다. 그리고 세번째 컬럼은 집의 가격이다.\r\n"
      ]
    },
    {
      "cell_type": "markdown",
      "metadata": {
        "id": "Q3dZYRy7zQis"
      },
      "source": [
        "**3.1 Feature Normalization**\r\n",
        "\r\n",
        "feature의 차수가 다를때, 먼저 feature scaling을 수행하는 것이 gradient descent 수렴을 더욱 빨리 만들 수 있다.\r\n",
        "\r\n",
        "-데이터넷에서 각 feature의 평균값을 뺀다.\r\n",
        "-평균을 뺀 이후에, 부가적으로 feature값을 scale(나눈다) 하는데 그들 각각의 \"표준 편차\"로 나눈다."
      ]
    },
    {
      "cell_type": "code",
      "metadata": {
        "colab": {
          "base_uri": "https://localhost:8080/"
        },
        "id": "jxJiD4Fz0bgl",
        "outputId": "1c82651a-c763-4597-9722-25d7626f0376"
      },
      "source": [
        "## ================ Part 1: Feature Normalization ================\r\n",
        "\r\n",
        "data = np.loadtxt('/content/ex1data2.txt',delimiter=',')\r\n",
        "\r\n",
        "X = data[:,0:2] #X에는 `1(집의크기),2(침실의숫자)번의 요소가 입력\r\n",
        "y = data[:,2] #y에는 3(집의가격)의 요소가 입력\r\n",
        "m = np.size(y,0)\r\n",
        "\r\n",
        "# 몇몇 데이터 포인트를 출력한다.\r\n",
        "print('First 10 examples from the dataset: ')\r\n",
        "#print(' x = [%.0f %.0f], y = %.0f', [X(1:10,:) y(1:10,:)]')\r\n",
        "for i in np.arange(10):\r\n",
        "    print(' x = [%.0f %.0f], y = %.0f' % (X[i, 0], X[i, 1], y[i]))\r\n",
        "\r\n",
        "\r\n",
        "def featureNormalize(X):\r\n",
        "    \"\"\"\r\n",
        "    X내의 features를 정규화한다. (X는 변수,특징이고 y는 관측값 실제값)\r\n",
        "    이 함수는 X의 정규화 버전을 반환하는데, 각 feature의 평균값은 0이 되고 표준 편차는\r\n",
        "    1이 된다. 이것은 종종 learning 알고리즘을 가지고 작업할 때 좋은 전처리 단계가\r\n",
        "    된다.\r\n",
        "    \r\n",
        "    피쳐 정규화 함수: 각각의 피쳐는 단위가 다르기 때문에 평균이 0이고 표준편차가 1인\r\n",
        "    정규화 값으로 변환된다.\r\n",
        "    \"\"\"\r\n",
        "    # *******************************************************************\r\n",
        "    # XXX: MATLAB의 std는 N-1을 한다. numpy의 std는 기본이 N을 사용한다.\r\n",
        "    # ddof 값이 주어지면 N - ddof를 사용하게 된다.\r\n",
        "    # *******************************************************************\r\n",
        "    # 0은 column 단위 연산, 1은 row 단위 연산 적용\r\n",
        "    # 아래 변수를 올바르게 반환해야 한다.\r\n",
        "    mu = np.mean(X, 0)  #X의 평균\r\n",
        "    sigma = np.std(X, axis=0, ddof=1) #X의 표준편차\r\n",
        "    \r\n",
        "    # ====================== YOUR CODE HERE ======================\r\n",
        "    # 지시사항: 먼저, 각 feature 차원에 대해서, feature의 평균을 계산하고\r\n",
        "    # 데이터셋에서 평균값을 뺀다. 그리고 평균값은 mu에 저장한다.\r\n",
        "    # 그 다음에, 각 fetaure에 대한 표준 편차를 계산하고 표준편차로 각 feature를\r\n",
        "    # 나눈다. 그리고 표준 편차는 sigma에 저장한다.\r\n",
        "    \r\n",
        "    # X는 각 컬럼이 하나의 feature이고 각 row가 하나의 example임을 주목하라.\r\n",
        "    # 당신은 각 feature에 대한 정규화를 개별적으로 수행해야 한다.\r\n",
        "    \r\n",
        "    # Hint: 'mean'과 'std' 함수가 유용하다.\r\n",
        "    \r\n",
        "    # np.tile()을 사용하나 그냥 사용하나 동일한 결과이다.\r\n",
        "    # X_norm = (X_norm - np.tile(mu, (m, 1))) / np.tile(sigma, (m, 1)) #아래와 동일 코드\r\n",
        "    X_norm = (X - mu) / sigma\r\n",
        "    \r\n",
        "    return X_norm, mu, sigma\r\n",
        "\r\n",
        "# features를 scale하고 평균 0으로 설정한다.\r\n",
        "print('Normalizing Features ...')\r\n",
        "\r\n",
        "# X의 피쳐를 정규화 시키고 평균 mu, 표준편차 sigma를 저장한다.\r\n",
        "X, mu, sigma = featureNormalize(X)\r\n",
        "\r\n",
        "\"\"\"\r\n",
        "In Octave:\r\n",
        "\r\n",
        "   0.13001  -0.22368\r\n",
        "  -0.50419  -0.22368\r\n",
        "   0.50248  -0.22368\r\n",
        "  -0.73572  -1.53777\r\n",
        "   1.25748   1.09042\r\n",
        "\"\"\"\r\n",
        "\r\n",
        "# 절편(intercept) 항목을 추가한다.\r\n",
        "# *******************************************************************\r\n",
        "# XXX: 절편(intercept) 항목 1을 추가하는 방법\r\n",
        "# 1) 절편 항목을 포함한 행렬을 만든 후 1 컬럼벡터를 할당\r\n",
        "# 2) hstack() 함수 사용: X_norm = hstack((np.ones((m, 1)), X_norm))\r\n",
        "# 3) np.column_stack() 함수 사용 => 여기서는 이 함수를 사용한다.\r\n",
        "# *******************************************************************\r\n",
        "m, n = X.shape\r\n",
        "X = np.column_stack((np.ones(m), X))\r\n",
        "\r\n",
        "print(X[0:5, :])"
      ],
      "execution_count": 10,
      "outputs": [
        {
          "output_type": "stream",
          "text": [
            "First 10 examples from the dataset: \n",
            " x = [2104 3], y = 399900\n",
            " x = [1600 3], y = 329900\n",
            " x = [2400 3], y = 369000\n",
            " x = [1416 2], y = 232000\n",
            " x = [3000 4], y = 539900\n",
            " x = [1985 4], y = 299900\n",
            " x = [1534 3], y = 314900\n",
            " x = [1427 3], y = 198999\n",
            " x = [1380 3], y = 212000\n",
            " x = [1494 3], y = 242500\n",
            "Normalizing Features ...\n",
            "[[ 1.          0.13000987 -0.22367519]\n",
            " [ 1.         -0.50418984 -0.22367519]\n",
            " [ 1.          0.50247636 -0.22367519]\n",
            " [ 1.         -0.73572306 -1.53776691]\n",
            " [ 1.          1.25747602  1.09041654]]\n"
          ],
          "name": "stdout"
        }
      ]
    },
    {
      "cell_type": "code",
      "metadata": {
        "id": "-blgZ6634CMe"
      },
      "source": [
        "## ================ Part 2: Gradient Descent ================\r\n",
        "# 지시사항: 우리는 다음의 스타터 코드를 제공했는데, 그것은 특정 \r\n",
        "# 학습률 learning rate (alpah)를 가지고 gradient descent를 실행한다.\r\n",
        "\r\n",
        "# 당신의 작업은 먼저 당신의 함수 - computeCost와 gradientDescent가 이미 \r\n",
        "# 스타터 코드와 잘 동작하고 다변수도 지원함을 확인해야 한다.\r\n",
        "\r\n",
        "# 그리고 난 다음, 서로 다른 alpha값을 가지고 gradient descent를 실행시켜봐라.\r\n",
        "# 그리고 어떤 값이 가장 좋은 결과를 주는지 확인해라.\r\n",
        "\r\n",
        "# 마지막으로, 끝에 있는 코드를 환성해서 1650 sq-ft, 3 br을 가진 집값을 예측한다.\r\n",
        "\r\n",
        "# Hint: 'hold on' 명령어를 사용해서, 동일한 figure 위에 여러 그래프를 plot할 수 있다.\r\n",
        "\r\n",
        "# Hint: 예측시에, 동일한 feature 정규화를 사용했는지 확인하라."
      ],
      "execution_count": 11,
      "outputs": []
    },
    {
      "cell_type": "code",
      "metadata": {
        "id": "5QEMAcro4EXL"
      },
      "source": [
        "def computeCostMulti(X, y, theta):\r\n",
        "    \"\"\"\r\n",
        "    비용함수 J: 다변량 변수를 가진 linear regression에 대한 cost를 계산한다.\r\n",
        "    theta를 linear regression에 대한 파마리터로 사용해서 데이터 포인트 x와 y를\r\n",
        "    fit 시킨다. 그리고 cost를 계산한다.\r\n",
        "    \r\n",
        "    다변량 X에 대해서 예상값(predictions)과 실제값(y)의 오차제곱합을 구한다.\r\n",
        "    \"\"\"\r\n",
        "    \r\n",
        "    # 몇몇 유용한 값 초기화\r\n",
        "    m = np.size(y) # training examples의 갯수\r\n",
        "    \r\n",
        "    # 아래 변수를 올바르게 반환해야 한다.\r\n",
        "    J = 0\r\n",
        "    \r\n",
        "    # ====================== YOUR CODE HERE ======================\r\n",
        "    # 지시사항: 특정 theta에 대한 cost를 계산하고, J에 cost를 설정한다.\r\n",
        "    \r\n",
        "    # X: 97x2, theta: 2x1\r\n",
        "    prediction = X.dot(theta)\r\n",
        "    \r\n",
        "    error = prediction - y\r\n",
        "    sqrError = error**2\r\n",
        "    J = 1.0 / (2.0*m)*np.sum(sqrError)\r\n",
        "    \r\n",
        "    return J"
      ],
      "execution_count": 12,
      "outputs": []
    },
    {
      "cell_type": "code",
      "metadata": {
        "id": "gHtl6YVd4Y70"
      },
      "source": [
        "def gradientDescentMulti(X, y, theta, alpha, num_iters):\r\n",
        "    \"\"\"\r\n",
        "    theta를 학습하기 위해 gradient descent를 수행한다.\r\n",
        "    이 함수는 learning rate alpha를 가지고 gradient를 num_iters \r\n",
        "    만큼 단계를 취해서 theta를 업데이트 한다.\r\n",
        "    \r\n",
        "    기울기 최소화 함수: 다변량 X에 대해서 계산\r\n",
        "    이후 exercise 2에서 나오는 minimize() 함수와 같은 역할을 한다.\r\n",
        "    \"\"\"\r\n",
        "    \r\n",
        "    # 변수 초기화\r\n",
        "    m = np.size(y)\r\n",
        "    J_history = np.zeros((num_iters, 1))\r\n",
        "    \r\n",
        "    for iter in range(num_iters):\r\n",
        "        # ====================== YOUR CODE HERE ======================\r\n",
        "        # 지시사항: 파라미터 벡터 theta 상에 한 번의 gradient를 수행한다.\r\n",
        "        # Hint: 디버깅하는 동안, cost function (computeCostMulti)와 \r\n",
        "        # gradient를 여기서 출력해보는 것이 도움이 된다.\r\n",
        "        \r\n",
        "        prediction = X.dot(theta)\r\n",
        "        error = prediction - y\r\n",
        "        \r\n",
        "        delta = (1.0 / m) * error.T.dot(X)\r\n",
        "        theta = theta - alpha * delta.T\r\n",
        "        \r\n",
        "        # 매 반복마다 cost J를 저장한다.\r\n",
        "        J_history[iter, 0] = computeCostMulti(X, y, theta)\r\n",
        "        \r\n",
        "    return theta, J_history"
      ],
      "execution_count": 13,
      "outputs": []
    },
    {
      "cell_type": "code",
      "metadata": {
        "colab": {
          "base_uri": "https://localhost:8080/",
          "height": 361
        },
        "id": "qKF4KClG5Dl8",
        "outputId": "8e07fa37-0aa6-4085-a78c-3b6f69453d0a"
      },
      "source": [
        "\r\n",
        "print('Running gradient descent ...')\r\n",
        "\r\n",
        "# 몇몇 alpha 값을 선택한다.\r\n",
        "alpha = 0.01\r\n",
        "num_iters = 400\r\n",
        "\r\n",
        "# Theta를 초기화하고 Gradient descent를 실행한다.\r\n",
        "theta = np.zeros(3)\r\n",
        "theta, J_history = gradientDescentMulti(X, y, theta, alpha, num_iters)\r\n",
        "\r\n",
        "# convergence graph를 plot한다.\r\n",
        "plt.plot(J_history, '-b', lw=2)\r\n",
        "plt.xlabel('Number of iterations')\r\n",
        "plt.ylabel('Cost J')\r\n",
        "plt.show()\r\n",
        "\r\n",
        "# gradient descent의 결과를 출력한다.\r\n",
        "print('Theta computed from gradient descent: ')\r\n",
        "print(' %s' % theta)\r\n",
        "\r\n",
        "\"\"\"\r\n",
        "In Octave/MATLAB: \r\n",
        "\r\n",
        "Theta computed from gradient descent:\r\n",
        " 334302.063993 \r\n",
        " 100087.116006 \r\n",
        " 3673.548451\r\n",
        "\"\"\"\r\n",
        "print"
      ],
      "execution_count": 14,
      "outputs": [
        {
          "output_type": "stream",
          "text": [
            "Running gradient descent ...\n"
          ],
          "name": "stdout"
        },
        {
          "output_type": "display_data",
          "data": {
            "image/png": "[encoded data removed]",
            "text/plain": [
              "<Figure size 432x288 with 1 Axes>"
            ]
          },
          "metadata": {
            "tags": [],
            "needs_background": "light"
          }
        },
        {
          "output_type": "stream",
          "text": [
            "Theta computed from gradient descent: \n",
            " [334302.06399328 100087.11600585   3673.54845093]\n"
          ],
          "name": "stdout"
        },
        {
          "output_type": "execute_result",
          "data": {
            "text/plain": [
              "<function print>"
            ]
          },
          "metadata": {
            "tags": []
          },
          "execution_count": 14
        }
      ]
    },
    {
      "cell_type": "code",
      "metadata": {
        "colab": {
          "base_uri": "https://localhost:8080/",
          "height": 382
        },
        "id": "940c93FF5m5j",
        "outputId": "79230df2-c025-4da7-b931-077e74d4c549"
      },
      "source": [
        "# 최적의 alpha값을 찾는다.\r\n",
        "# alpha와 반복횟수를 조절하면서 alpha값을 찾는다.\r\n",
        "\r\n",
        "# 반복에 따른 cost J를 이용해서 최적의 alpha값을 찾는다.\r\n",
        "# 50회만 반복 수행한다.\r\n",
        "# J_history는 num_iters x 1의 컬럼벡터이다.\r\n",
        "arr_alpha = [0.3, 0.1, 0.03, 0.01]\r\n",
        "num_iters = 50\r\n",
        "arr_J = np.zeros((num_iters, len(arr_alpha)))\r\n",
        "i = 0;\r\n",
        "for my_alpha in arr_alpha:\r\n",
        "    print('my alpha is %s' % my_alpha)\r\n",
        "    theta = np.zeros(3)\r\n",
        "    theta, J_history = gradientDescentMulti(X, y, theta, my_alpha, num_iters)\r\n",
        "    arr_J[:, i] = J_history.T\r\n",
        "    i = i + 1\r\n",
        "    \r\n",
        "print('top 5: arr_J')\r\n",
        "arr_J[0:5, :]\r\n",
        "\r\n",
        "# alpha = 0.1 에서 최적의 학습곡선이 보여지고 있다.\r\n",
        "plt.plot(arr_J[0:50, 0], 'b')\r\n",
        "plt.plot(arr_J[0:50, 1], 'r--')\r\n",
        "plt.plot(arr_J[0:50, 2], 'k')\r\n",
        "plt.plot(arr_J[0:50, 3], 'y')"
      ],
      "execution_count": 15,
      "outputs": [
        {
          "output_type": "stream",
          "text": [
            "my alpha is 0.3\n",
            "my alpha is 0.1\n",
            "my alpha is 0.03\n",
            "my alpha is 0.01\n",
            "top 5: arr_J\n"
          ],
          "name": "stdout"
        },
        {
          "output_type": "execute_result",
          "data": {
            "text/plain": [
              "[<matplotlib.lines.Line2D at 0x7f669fa77588>]"
            ]
          },
          "metadata": {
            "tags": []
          },
          "execution_count": 15
        },
        {
          "output_type": "display_data",
          "data": {
            "image/png": "[encoded data removed]",
            "text/plain": [
              "<Figure size 432x288 with 1 Axes>"
            ]
          },
          "metadata": {
            "tags": [],
            "needs_background": "light"
          }
        }
      ]
    },
    {
      "cell_type": "code",
      "metadata": {
        "colab": {
          "base_uri": "https://localhost:8080/"
        },
        "id": "XFFvr2m554ck",
        "outputId": "285216cf-7946-488e-dc37-a3f6c6614a76"
      },
      "source": [
        "# 1650 평방피트의 3개의 침실을 가진 집의 가격을 평가한다.\r\n",
        "# ====================== YOUR CODE HERE ======================\r\n",
        "# X의 첫번째 컬럼은 모두 1임을 기억해라. 따라서 그것은 정규화될 필요가\r\n",
        "# 없다.\r\n",
        "\r\n",
        "# 위에서 구해진 최적의 alpha와 num_iters를 설정한다.\r\n",
        "alpha = 0.1\r\n",
        "num_iters = 50\r\n",
        "\r\n",
        "# Theta를 초기화하고 Gradient Descent를 실행한다.\r\n",
        "theta = np.zeros(3)\r\n",
        "theta, J_history = gradientDescentMulti(X, y, theta, alpha, num_iters)\r\n",
        "\r\n",
        "print('best theta for gradient descent... ')\r\n",
        "print(theta)\r\n",
        "\r\n",
        "# Estimate the price of a 1650 sq-ft, 3 br house\r\n",
        "price = 0\r\n",
        "new_x = np.array([1650, 3])\r\n",
        "\r\n",
        "# x 값을 정규화 시킨다.\r\n",
        "new_x = (new_x - mu) / sigma\r\n",
        "#new_x = hstack(([np.ones(1), new_x])) # 아래 코드와 동일\r\n",
        "new_x = np.append(1, new_x)\r\n",
        "print(new_x)\r\n",
        "\r\n",
        "# y(price)를 예측한다.\r\n",
        "price = new_x.dot(theta)\r\n",
        "\r\n",
        "print('Predicted price of a 1650 sq-ft, 3 br house (Using gradient descent) %s' % price)\r\n",
        "\r\n",
        "\r\n",
        "\"\"\"\r\n",
        "best theta for gradient descent... \r\n",
        "theta =\r\n",
        "\r\n",
        "   3.3866e+05\r\n",
        "   1.0413e+05\r\n",
        "  -1.7221e+02\r\n",
        "\r\n",
        "new_x =\r\n",
        "\r\n",
        "  -0.44127  -0.22368\r\n",
        "\r\n",
        "new_x =\r\n",
        "\r\n",
        "   1.00000  -0.44127  -0.22368\r\n",
        "\r\n",
        "price =    2.9275e+05\r\n",
        "Predicted price of a 1650 sq-ft, 3 br house (using gradient descent):\r\n",
        " $292748.085232\r\n",
        "\"\"\"\r\n",
        "print()"
      ],
      "execution_count": 16,
      "outputs": [
        {
          "output_type": "stream",
          "text": [
            "best theta for gradient descent... \n",
            "[ 3.38658249e+05  1.04127516e+05 -1.72205334e+02]\n",
            "[ 1.         -0.4412732  -0.22367519]\n",
            "Predicted price of a 1650 sq-ft, 3 br house (Using gradient descent) 292748.0852321537\n",
            "\n"
          ],
          "name": "stdout"
        }
      ]
    },
    {
      "cell_type": "markdown",
      "metadata": {
        "id": "kHH2d_0DvvKf"
      },
      "source": [
        "**3.3 Normal Equation**\r\n",
        "\r\n",
        "**$ \\theta = (X^{T}X)^{-1}X^{T}y $**\r\n",
        "\r\n",
        "이 공식을 이용하는 것은 어떠한 feature scaling도 요구하지 않고, 한번의 계산으로 정확한 솔루션을 구할 수 있다: gradient descent와 같이 \"loop until convergence\" 가 없다.\r\n",
        "\r\n",
        "\r\n",
        "\r\n",
        "\r\n"
      ]
    },
    {
      "cell_type": "code",
      "metadata": {
        "colab": {
          "base_uri": "https://localhost:8080/"
        },
        "id": "0SsWrSZsuRWG",
        "outputId": "2c631812-d223-4016-8368-dfa7abfc7f43"
      },
      "source": [
        "## ================ Part 3: Normal Equations ================\r\n",
        "# 지시사항: 다음의 코드는 normal equations를 사용해서 closed form \r\n",
        "# 솔루션을 계산한다. normalEqn.m 내의 코드를 완성해야 한다.\r\n",
        "\r\n",
        "# 그렇게 하고난 후, 1650 평방-피트, 3개의 침실을 가진 집의 가격을\r\n",
        "# 예측하기 위해 이 코드를 완성해야 한다.\r\n",
        "\r\n",
        "def normalEqn(X, y):\r\n",
        "    \"\"\"\r\n",
        "    linear regression에 대한 closed-form solution을 계산한다.\r\n",
        "    이 함수는 normal equations를 사용해서 linear regression에 대한\r\n",
        "    closed-form solution을 계산한다.\r\n",
        "    \"\"\"\r\n",
        "    \r\n",
        "    # ====================== YOUR CODE HERE ======================\r\n",
        "    # 지시사항: linear regressin에 대한 closed form solution을 계산하는\r\n",
        "    # 코드를 완성하고 결과를 theta에 저장하라.\r\n",
        "    \r\n",
        "    \"\"\"\r\n",
        "    # 역행렬: A.I == linalg.inv(A)\r\n",
        "\r\n",
        "    # 1) 행렬 방식으로 계산\r\n",
        "    m, n = X.shape\r\n",
        "    X = matrix(X)\r\n",
        "    \r\n",
        "    y = y.reshape((m, 1))\r\n",
        "    y = matrix(y)\r\n",
        "    \r\n",
        "    theta = (X.T * X).I * X.T * y\r\n",
        "    \r\n",
        "    \"\"\"\r\n",
        "    \r\n",
        "    # 2) numpy의 array 방식으로 계산\r\n",
        "    #theta = np.zeros((X.shape[1])) # theta 초기화\r\n",
        "    theta = np.linalg.inv(X.T.dot(X)).dot(X.T).dot(y)\r\n",
        "    \r\n",
        "    \r\n",
        "    return theta\r\n",
        "\r\n",
        "\r\n",
        "# 데이터 로드\r\n",
        "#data = pd.read_csv('ex1data2.txt', header=None) # 아래 코드와 동일\r\n",
        "#data = np.array(data)\r\n",
        "data = np.loadtxt('ex1data2.txt', delimiter=',')\r\n",
        "X = data[:, 0:2]\r\n",
        "y = data[:, 2]\r\n",
        "m = np.size(y, 0)\r\n",
        "\r\n",
        "# 절편(intercept) 항목을 추가한다.\r\n",
        "#X = hstack((np.ones((m, 1)), X)) # 아래 코드와 동일\r\n",
        "X = np.column_stack((np.ones(m), X))\r\n",
        "\r\n",
        "# normal equation 으로부터 파라미터를 계산한다.\r\n",
        "theta = normalEqn(X, y)\r\n",
        "\r\n",
        "# normal equation의 결과를 표시한다.\r\n",
        "print('Theta computed from the normal equations: ')\r\n",
        "print(' %s ' % theta)\r\n",
        "\r\n",
        "\r\n",
        "\"\"\"\r\n",
        "In Octave/MATLAB:\r\n",
        "\r\n",
        "matrix([[ 89597.9095428 ],\r\n",
        "        [   139.21067402],\r\n",
        "        [ -8738.01911233]])\r\n",
        "\"\"\"\r\n",
        "print"
      ],
      "execution_count": 18,
      "outputs": [
        {
          "output_type": "stream",
          "text": [
            "Theta computed from the normal equations: \n",
            " [89597.9095428    139.21067402 -8738.01911233] \n"
          ],
          "name": "stdout"
        },
        {
          "output_type": "execute_result",
          "data": {
            "text/plain": [
              "<function print>"
            ]
          },
          "metadata": {
            "tags": []
          },
          "execution_count": 18
        }
      ]
    },
    {
      "cell_type": "code",
      "metadata": {
        "colab": {
          "base_uri": "https://localhost:8080/"
        },
        "id": "m2aVzCgIwDpk",
        "outputId": "e8632f27-51cc-4352-f97a-a1bd88b797d4"
      },
      "source": [
        "\r\n",
        "# 1650 sq-ft, br3 인 집의 가격을 예측한다.\r\n",
        "# ====================== YOUR CODE HERE ======================\r\n",
        "# 위에서 gradientdescent 방식으로 구한 가격과 비슷함을 알 수 있다.\r\n",
        "price = 0 # 당신은 이 값을 변경해야 한다.\r\n",
        "\r\n",
        "# x featues에 1을 추가한다.\r\n",
        "new_x = [1, 1650, 3]\r\n",
        "price = sum(new_x * theta)\r\n",
        "\r\n",
        "print('Predicted price of a 1650 sq-ft, 3 br house ')\r\n",
        "print('(using normal equations):\\n $%f' % price)\r\n",
        "\r\n",
        "\"\"\"\r\n",
        "In Octave/MATLAB: \r\n",
        "\r\n",
        "Predicted price of a 1650 sq-ft, 3 br house (using normal equations):\r\n",
        " $293081.464335\r\n",
        "\"\"\"\r\n",
        "print"
      ],
      "execution_count": 19,
      "outputs": [
        {
          "output_type": "stream",
          "text": [
            "Predicted price of a 1650 sq-ft, 3 br house \n",
            "(using normal equations):\n",
            " $293081.464335\n"
          ],
          "name": "stdout"
        },
        {
          "output_type": "execute_result",
          "data": {
            "text/plain": [
              "<function print>"
            ]
          },
          "metadata": {
            "tags": []
          },
          "execution_count": 19
        }
      ]
    }
  ]
}