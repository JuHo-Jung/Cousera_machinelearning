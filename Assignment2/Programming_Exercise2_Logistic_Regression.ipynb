{
  "nbformat": 4,
  "nbformat_minor": 0,
  "metadata": {
    "colab": {
      "name": "Programming Exercise2 : Logistic Regression",
      "provenance": []
    },
    "kernelspec": {
      "name": "python3",
      "display_name": "Python 3"
    }
  },
  "cells": [
    {
      "cell_type": "markdown",
      "metadata": {
        "id": "38-13xUXhXml"
      },
      "source": [
        "정주호 (Ju Ho Jung) 2021-01-27\r\n",
        "\r\n",
        "1. 강의 : Angrew Ng 교수의 코세라 강의 https://www.coursera.org/learn/machine-learning/\r\n",
        "\r\n",
        "2. Cousera Machine learning(Andrew Ng)의 강의 내용 정리 및 assignment\r\n",
        "\r\n",
        "3. 모든 자료(도표, 수식, 텍스트)는 해당 강의의 강의 내용 및 과제에서 가져왔음을 알린다.\r\n",
        "\r\n",
        "4. 모든 assignment는 Octave/MATLAB function으로 진행한다."
      ]
    },
    {
      "cell_type": "markdown",
      "metadata": {
        "id": "N2pawSleFH6Q"
      },
      "source": [
        "**1. Logistic regression**\r\n",
        "\r\n",
        "연습문제에서, 학생들의 대학입학 승인을 예측하기 위한 logistic regression model 를 구축한다.\r\n",
        "\r\n",
        "각각의 training example에 대해서, 2개 시험의 응시자의 점수와 승인 결정이 포함되어 있다.\r\n",
        "\r\n",
        "-2가지 시험점수와 승인결과를 가진 training example을 가지고 응시자의 합격 확률을 측정하는 분류 모델을 구축하는 것이 목표이다."
      ]
    },
    {
      "cell_type": "markdown",
      "metadata": {
        "id": "mNPa6JJEFZn0"
      },
      "source": [
        "**1.1 Visualizing the data**\r\n",
        "\r\n"
      ]
    },
    {
      "cell_type": "code",
      "metadata": {
        "id": "h15EjTo5gfiN"
      },
      "source": [
        "import numpy as np\r\n",
        "import matplotlib.pyplot as plt\r\n",
        "\r\n"
      ],
      "execution_count": 38,
      "outputs": []
    },
    {
      "cell_type": "code",
      "metadata": {
        "id": "AF643yHoFnwW"
      },
      "source": [
        "data = np.loadtxt('/content/ex2data1.txt',delimiter=',')\r\n",
        "data = np.array(data) #data를 numpy로 배열만들기\r\n",
        "X = data[:,0:2] #전체행을 읽되, feature은 1,2번\r\n",
        "y = data[:,2] #에측값은 마지막 0,1로 표현된 합불"
      ],
      "execution_count": 39,
      "outputs": []
    },
    {
      "cell_type": "code",
      "metadata": {
        "colab": {
          "base_uri": "https://localhost:8080/",
          "height": 332
        },
        "id": "P2gUzWgijAZm",
        "outputId": "ba7c8dd6-615f-4206-f31c-330789f6e953"
      },
      "source": [
        "## ==================== Part 1: Plotting ====================\r\n",
        "# 우리는 데이터를 plotting하면서 연습문제를 시작하는데, 우리가 작업하는\r\n",
        "# 문제를 이해하기 위해서이다.\r\n",
        "\r\n",
        "def plotData(X, y):\r\n",
        "    \"\"\"\r\n",
        "    데이터 포인트 x와 y를 새로운 figure에 plot한다.\r\n",
        "    긍정 examples는 +로, 부정 examples는 o로 표시한다.\r\n",
        "    X는 Mx2 행렬이라고 가정한다.\r\n",
        "    \"\"\"\r\n",
        "    \r\n",
        "    # ====================== YOUR CODE HERE ======================\r\n",
        "    # 지시사항: 긍정과 부정 examples를 2D plot상에 표시하는데, 옵션 \r\n",
        "    # 'k+'는 긍정 examples에 그리고 'ko' 는 부정 examples에 사용한다.\r\n",
        "    \r\n",
        "    # 긍정과 부정 examples의 인덱스를 찾는다.\r\n",
        "    # *******************************************************************\r\n",
        "    # XXX: 인덱스를 찾을 경우, find() 또는 nonzero()를 사용한다.\r\n",
        "    # 이렇게 사용하지 말자: pos = (y == 1), neg = (y == 0)\r\n",
        "    # *******************************************************************    \r\n",
        "    pos = (y==1)  #합격\r\n",
        "    neg = (y == 0)  #불합격\r\n",
        "\r\n",
        "    # examples를 plot한다.\r\n",
        "    plt.plot(X[pos, 0], X[pos, 1], 'k+')\r\n",
        "    plt.plot(X[neg, 0], X[neg, 1], 'ko', color='y', label='Not admitted')\r\n",
        "    \r\n",
        "\r\n",
        "print('Plotting data with + indicating (y = 1) examples and o \\\r\n",
        "indicating (y = 0) examples.\\n')\r\n",
        "\r\n",
        "plotData(X, y)\r\n",
        "\r\n",
        "# 몇몇 라벨을 표시한다.\r\n",
        "plt.xlabel('Exam 1 score')\r\n",
        "plt.ylabel('Exam 2 score')\r\n",
        "\r\n",
        "# plot 순서로 표시한다.\r\n",
        "plt.legend(('Admitted', 'Not admitted'), loc='upper right')"
      ],
      "execution_count": 40,
      "outputs": [
        {
          "output_type": "stream",
          "text": [
            "Plotting data with + indicating (y = 1) examples and o indicating (y = 0) examples.\n",
            "\n"
          ],
          "name": "stdout"
        },
        {
          "output_type": "execute_result",
          "data": {
            "text/plain": [
              "<matplotlib.legend.Legend at 0x7fc9b7231198>"
            ]
          },
          "metadata": {
            "tags": []
          },
          "execution_count": 40
        },
        {
          "output_type": "display_data",
          "data": {
            "image/png": "[encoded data removed]",
            "text/plain": [
              "<Figure size 432x288 with 1 Axes>"
            ]
          },
          "metadata": {
            "tags": [],
            "needs_background": "light"
          }
        }
      ]
    },
    {
      "cell_type": "markdown",
      "metadata": {
        "id": "0VKbgE2DhlSU"
      },
      "source": [
        ""
      ]
    },
    {
      "cell_type": "markdown",
      "metadata": {
        "id": "2gbLkkkHHcYx"
      },
      "source": [
        "**1.2 Implementation**\r\n",
        "\r\n",
        "1.2.1 Warm exercise: sigmoid function\r\n",
        "실제 cost function을 가지고 시작하기 전에, logistic regression 의 hypothesis 가설이 다음처럼 정의됨을 기억하라:\r\n",
        "\r\n",
        "$ h_{\\theta}(x) = g(\\theta^{T}x) $,\r\n",
        "\r\n",
        "여기서 함수 g는 sigmoid 함수이다. sigmoid 함수는 다음처럼 정의된다:\r\n",
        "\r\n",
        "$ g(z) = \\frac{1}{1+e^{-z}} $.\r\n",
        "\r\n",
        "\r\n",
        "-아주 큰 x의 양의 값에 대해서, sigmoid 는 1에 가까워야 하고, 반면에 아주 큰 음의 값에 대해서, sigmoid 는 0에 가까워야 한다. simoid(0)을 평가하면 정확히 0.5의 값을 주어야 한다."
      ]
    },
    {
      "cell_type": "code",
      "metadata": {
        "colab": {
          "base_uri": "https://localhost:8080/"
        },
        "id": "7x24zuWQHmZp",
        "outputId": "8db81c57-627b-4631-a3ad-5380d7902efd"
      },
      "source": [
        "## ============ Part 2: Compute Cost and Gradient ============\r\n",
        "# 연습문제의 이 부분에서, logistic regression에 대한 cost와 gradient\r\n",
        "# 를 구현할 것이다. costFunction.m 내의 코드를 완성할 필요가 있다.\r\n",
        "\r\n",
        "def sigmoid(z):\r\n",
        "    \"\"\"\r\n",
        "    큰 양의 값에 대해서는 결과값이 1에 가깝고, \r\n",
        "    큰 음수의 값에 대해서는 0에 가깝다.\r\n",
        "    simoid(0) = 0.5\r\n",
        "    \"\"\"\r\n",
        "    g = 1 / (1  + np.exp(-z))\r\n",
        "    \r\n",
        "    return g\r\n",
        "\r\n",
        "print('sigmoid(10) = %s, sigmoid(-10) = %s, sigmoid(0) = %s' \r\n",
        "      % (sigmoid(10), sigmoid(-10), sigmoid(0)))"
      ],
      "execution_count": 41,
      "outputs": [
        {
          "output_type": "stream",
          "text": [
            "sigmoid(10) = 0.9999546021312976, sigmoid(-10) = 4.5397868702434395e-05, sigmoid(0) = 0.5\n"
          ],
          "name": "stdout"
        }
      ]
    },
    {
      "cell_type": "markdown",
      "metadata": {
        "id": "NNv-bWh4H3UI"
      },
      "source": [
        "1.2.2 Cost function and gradient"
      ]
    },
    {
      "cell_type": "code",
      "metadata": {
        "id": "fl4wPD8zH-Gb"
      },
      "source": [
        "# You should now submit your solutions.\r\n",
        "\r\n",
        "# 데이터 행렬을 적절히 설정한다. 그리고 절편 항목을 위해서 1을 추가한다.\r\n",
        "# data array의 크기를 조회한다.\r\n",
        "m, n = np.shape(X)\r\n",
        "\r\n",
        "# 절편 항목을 X와 X_test에 추가한다.\r\n",
        "X_1 = np.hstack((np.ones((m, 1)), X))\r\n",
        "#X_1 = np.column_stack((np.ones(m), X))\r\n",
        "\r\n",
        "# 파라미터를 초기화한다. 절편이 추가되니까 n + 1을 해준다.\r\n",
        "initial_theta = np.zeros(n+1)"
      ],
      "execution_count": 42,
      "outputs": []
    },
    {
      "cell_type": "code",
      "metadata": {
        "id": "JDFf7OfeIpRu"
      },
      "source": [
        "def costFunction(theta, X, y):\r\n",
        "    \"\"\"\r\n",
        "    logistic regression에 대한 cost와 graident를 계산한다.\r\n",
        "    cost를 계산하는데 logistic regression에 대한 파라미터로 theta를\r\n",
        "    사용한다. 그리고 cost에 대한 gradient를 계산한다.\r\n",
        "    \"\"\"\r\n",
        "    \r\n",
        "    # 몇몇 유용한 변수를 초기화 한다.\r\n",
        "    m, n = X.shape # m은 training examples 수이다.\r\n",
        "    \r\n",
        "    # 다음 변수를 올바르게 반환해야 한다.\r\n",
        "    J = 0\r\n",
        "    grad = np.zeros(np.size(theta))\r\n",
        "    \r\n",
        "    # ====================== YOUR CODE HERE ======================\r\n",
        "    # 지시사항: 특정 theta에 대한 cost를 계산한다.\r\n",
        "    # J를 cost로 설정한다.\r\n",
        "    # 편미분을 계산하고 cost에 대한 편미분을 grad에 설정한다.\r\n",
        "    \r\n",
        "    # Note: grad는 theta와 동일한 차원이다.\r\n",
        "    \r\n",
        "    \"\"\"\r\n",
        "    XXX: 1) array 에서 * 는 요소곱을 나타낸다. 행렬곱은 .dot() 함수를 사용한다.\r\n",
        "        2) matrix에서 * 는 행렬곱을 나타낸다. 요소곱은 .multiply() 함수를 사용한다.\r\n",
        "        3) 함수 안에서는 matrix 연산으로 통일한다.\r\n",
        "    \"\"\"\r\n",
        "    \r\n",
        "    prediction = sigmoid(X.dot(theta))\r\n",
        "    \r\n",
        "    # cost J를 구한다.\r\n",
        "    J = 1/m * sum(-y * np.log(prediction) - (1 - y) * np.log(1 - prediction))\r\n",
        "    \r\n",
        "    # gradient를 구한다.\r\n",
        "    error = prediction - y\r\n",
        "\r\n",
        "    delta = 1/m * error.T.dot(X)\r\n",
        "    grad = delta\r\n",
        "    \r\n",
        "    return J, grad"
      ],
      "execution_count": 43,
      "outputs": []
    },
    {
      "cell_type": "code",
      "metadata": {
        "colab": {
          "base_uri": "https://localhost:8080/"
        },
        "id": "gOmgNmaKIe_P",
        "outputId": "53ad9aa0-a833-4ee1-dd69-a8f936860099"
      },
      "source": [
        "# 초기 cost와 gradient를 계산하고 표시한다.\r\n",
        "cost, grad = costFunction(initial_theta, X_1, y)\r\n",
        "\r\n",
        "print('Cost at initial theta (zeros): %f ' % cost)\r\n",
        "print('Gradient at initial theta (zeros): ')\r\n",
        "print('%s' % grad)\r\n",
        "\"\"\"\r\n",
        "In Octave/MATLAB: \r\n",
        "\r\n",
        "Cost at initial theta (zeros): 0.693147\r\n",
        "Gradient at initial theta (zeros): \r\n",
        " -0.100000 \r\n",
        " -12.009217 \r\n",
        " -11.262842 \r\n",
        "\"\"\"\r\n",
        "print()"
      ],
      "execution_count": 44,
      "outputs": [
        {
          "output_type": "stream",
          "text": [
            "Cost at initial theta (zeros): 0.693147 \n",
            "Gradient at initial theta (zeros): \n",
            "[ -0.1        -12.00921659 -11.26284221]\n",
            "\n"
          ],
          "name": "stdout"
        }
      ]
    },
    {
      "cell_type": "markdown",
      "metadata": {
        "id": "vlYuaS2VLGUR"
      },
      "source": [
        "**1.2.4 Evaluating logistic regression**\r\n",
        "\r\n",
        "파라미터의 quality를 평가하기 위한 다른 방법으로 training set 상에서 학습된 모델이 얼마나 잘 예측하는지 보는 것이다.\r\n"
      ]
    },
    {
      "cell_type": "code",
      "metadata": {
        "colab": {
          "base_uri": "https://localhost:8080/"
        },
        "id": "WTOlpfwLLT6C",
        "outputId": "7498e33a-a226-4ff8-8762-6bbb9c01a47a"
      },
      "source": [
        "## ============= Part 3: Optimizing using fminunc  =============\r\n",
        "# 이번 연습문제에서, 당신은 내장 함수 (fminunc) 를 사용해서 최적의 \r\n",
        "# theta 파라미터를 찾을 것이다.\r\n",
        "\r\n",
        "# minimize 함수 호출을 사용하기 위해 import 한다.\r\n",
        "import scipy.optimize as op\r\n",
        "\r\n",
        "# octave 에서는 costFunction 안에서 cost와 gradient를 한꺼번에 계산했다.\r\n",
        "# python 에서는 minimize () 사용을 위해서 cost와 gradient 계산을 분리한다.\r\n",
        "\r\n",
        "def myCost(theta, X, y):\r\n",
        "    \"\"\"\r\n",
        "    cost J를 계산한다.\r\n",
        "    \"\"\"\r\n",
        "    \r\n",
        "    m, n = X.shape\r\n",
        "    # 아래와 같은 방식으로 사용하지 말자.\r\n",
        "    #theta1 = theta.reshape(len(theta), 1, order='F').copy()\r\n",
        "\r\n",
        "    predictions = X.dot(theta)\r\n",
        "    sig_term = sigmoid(predictions)\r\n",
        "    \r\n",
        "    # 원본 수식\r\n",
        "    J = 1/m * np.sum(-y * log(sig_term) - (1 - y) * log(1 - sig_term))\r\n",
        "    \r\n",
        "    return J\r\n",
        "\r\n",
        "def myGradient(theta, X, y):\r\n",
        "    \"\"\"\r\n",
        "    gradient를 계산한다.\r\n",
        "    \"\"\"\r\n",
        "    m, n = np.shape(X)\r\n",
        "\r\n",
        "    # errors 의 차원을 확인해야 한다. predictions과 동일한 차원인지 확인한다.\r\n",
        "    # dim(predictions) = dim(erros) = dim(y) = m x 1\r\n",
        "    predictions = sigmoid(X.dot(theta))\r\n",
        "    errors = predictions - y\r\n",
        "    \r\n",
        "    delta = 1/m * errors.T.dot(X) # => 1 x n\r\n",
        "    grad = delta\r\n",
        "\r\n",
        "    # ********************************************************************\r\n",
        "    # XXX: 함수내에서 gradient 반환은 array 타입으로 반환하는 것이 중요하다.\r\n",
        "    # return format: array([ -0.1       , -12.00921659, -11.26284221])\r\n",
        "    # ********************************************************************\r\n",
        "    return grad\r\n",
        "\r\n",
        "\r\n",
        "# fminunc를 위해서 옵션을 설정한다.\r\n",
        "# options = optimset('GradObj', 'on', 'MaxIter', 400); # Octave Code\r\n",
        "\r\n",
        "costFunc = lambda p: costFunction(p, X_1, y)[0]\r\n",
        "gradFunc = lambda p: costFunction(p, X_1, y)[1]\r\n",
        "\r\n",
        "# 최적의 theta를 구하기 위해 fminunc를 실행한다.\r\n",
        "# 이 함수는 theta와 cost를 반환한다.\r\n",
        "\r\n",
        "# 방법 1) OK\r\n",
        "Result = op.minimize(fun = costFunc, x0 = initial_theta, method = 'TNC', jac = gradFunc)\r\n",
        "\r\n",
        "# 방법 2) OK\r\n",
        "#Result = op.minimize(fun = myCost, x0 = initial_theta, args = (X_1, y), method = 'TNC'\r\n",
        "#                     , jac = myGradient);\r\n",
        "\r\n",
        "# 방법 3) OK\r\n",
        "#Result = op.fmin_tnc(func = myCost, x0 = initial_theta, fprime = myGradient, args = (X_1, y))\r\n",
        "\r\n",
        "cost = Result.fun\r\n",
        "theta = Result.x\r\n",
        "\r\n",
        "# Cost at theta found by fminunc: 0.203497701589. \r\n",
        "# theta: [-25.16131861   0.20623159   0.20147149]\r\n",
        "print('Cost at theta found by fminunc: %s. \\n' % cost)\r\n",
        "print('theta: ')\r\n",
        "print('theta: %s. \\n' % theta)\r\n",
        "\r\n",
        "\r\n",
        "# XXX: 아래 방식 fmin_bfgs()는 잘못된 결과가 나오는데, \r\n",
        "# 어떤 부분이 잘못되었는지 모르겠다. 추후 검토 필요함\r\n",
        "#Result = op.fmin_bfgs(f = myCost, x0 = initial_theta, args = (X_1, y), maxiter = 400, fprime = myGradient)\r\n",
        "#print (myCost(Result[0], X_1, y))"
      ],
      "execution_count": 45,
      "outputs": [
        {
          "output_type": "stream",
          "text": [
            "Cost at theta found by fminunc: 0.2034977015894742. \n",
            "\n",
            "theta: \n",
            "theta: [-25.16131873   0.20623159   0.20147149]. \n",
            "\n"
          ],
          "name": "stdout"
        }
      ]
    },
    {
      "cell_type": "code",
      "metadata": {
        "colab": {
          "base_uri": "https://localhost:8080/",
          "height": 301
        },
        "id": "LeVAA1x7TLqw",
        "outputId": "508b1356-ab99-455f-cfeb-31a999450cd1"
      },
      "source": [
        "def plotDecisionBoundary(theta, X, y):\r\n",
        "    \"\"\"\r\n",
        "    데이터 포인트 x와 y를 theta에 의해 정의된 decision boundary를 가진 새로운\r\n",
        "    figure 상으로 plot 한다.\r\n",
        "    이 함수는 data points를 plot하는데 positive exampes는 +로, negative exampels는 o로\r\n",
        "    표시한다. x는 다음 둘 중 하나로 가정한다.\r\n",
        "    1) Mx3 행렬, 첫번째 컬럼은 절편을 위한 1의 벡터로 구성됨\r\n",
        "    2) MxN, N > 3 행렬, 첫번째 컬럼은 모두 1로 구성됨\r\n",
        "    \"\"\"\r\n",
        "    \r\n",
        "    # 데이터를 plot 한다.\r\n",
        "    plotData(X[:, 1:3], y)\r\n",
        "    \r\n",
        "    if np.size(X, 1) <= 3:\r\n",
        "        # line을 정의하기 위해서는 단지 2개의 점만 필요하다. \r\n",
        "        # 따라서 2개의 endpoints를 선택한다.\r\n",
        "        plot_x = np.array([np.min(X[:, 1]) - 2, np.max(X[:, 1] + 2)])\r\n",
        "        \r\n",
        "        # ***************************************************************\r\n",
        "        # XXX: decision boundary line: theta0 + theta1 * x + theta2 * y = 0\r\n",
        "        # ***************************************************************\r\n",
        "        # decision boundary line을 계산한다.\r\n",
        "        plot_y = (-1 / theta[2]) * (theta[1] * plot_x + theta[0])\r\n",
        "        \r\n",
        "        # plot을 그린다. 그리고 더 좋은 뷰잉을 위해 축을 조정한다.\r\n",
        "        plt.plot(plot_x, plot_y)\r\n",
        "        \r\n",
        "        # Legent, 연습문제를 위해 지정함\r\n",
        "        plt.legend(('Admitted', 'Not admitted'), loc='upper right')\r\n",
        "        plt.axis([30, 100, 30, 100])\r\n",
        "    \r\n",
        "    # 변환 작업 중\r\n",
        "    else:\r\n",
        "        # grid range를 설정한다. linspace는 octave, python 동일한 사용법임\r\n",
        "        u = np.linspace(-1, 1.5, 50) # 50,\r\n",
        "        v = np.linspace(-1, 1.5, 50)\r\n",
        "        \r\n",
        "        z = np.zeros((np.size(u), np.size(v)))\r\n",
        "        \r\n",
        "        # z = theta * x 를 grid 상에서 평가한다.\r\n",
        "        for i in np.arange(np.size(u)):\r\n",
        "            for j in np.arange(np.size(v)):\r\n",
        "                z[i, j] = np.sum(mapFeature(u[i], v[j]) * theta)\r\n",
        "                \r\n",
        "        z = z.T # contour를 호출하기 전에 transpose하는 것이 중요하다.\r\n",
        "        \r\n",
        "        # Plot z = 0\r\n",
        "        # range를 [0, 0]으로 할 필요가 있다.\r\n",
        "        # contour(u, v, z, [0, 0], 'LineWidth', 2); # Octave code\r\n",
        "        plt.contour(u, v, z)\r\n",
        "     \r\n",
        "     \r\n",
        "# 경계선을 plot 한다.\r\n",
        "plotDecisionBoundary(theta, X_1, y)\r\n",
        "# label과 Legend를 표시한다.\r\n",
        "plt.xlabel('Exam 1 score')\r\n",
        "plt.ylabel('Exam 2 score')\r\n",
        "\r\n",
        "# plot 순서대로 명시한다.\r\n",
        "plt.legend(('Admitted', 'Not admitted'), loc='upper right')"
      ],
      "execution_count": 46,
      "outputs": [
        {
          "output_type": "execute_result",
          "data": {
            "text/plain": [
              "<matplotlib.legend.Legend at 0x7fc9b7183860>"
            ]
          },
          "metadata": {
            "tags": []
          },
          "execution_count": 46
        },
        {
          "output_type": "display_data",
          "data": {
            "image/png": "[encoded data removed]",
            "text/plain": [
              "<Figure size 432x288 with 1 Axes>"
            ]
          },
          "metadata": {
            "tags": [],
            "needs_background": "light"
          }
        }
      ]
    },
    {
      "cell_type": "code",
      "metadata": {
        "colab": {
          "base_uri": "https://localhost:8080/"
        },
        "id": "MMiX6kOBUxB4",
        "outputId": "4efb6df3-9bd2-495a-daf4-ca5669d1f4b3"
      },
      "source": [
        "## ============== Part 4: Predict and Accuracies ==============\r\n",
        "# 파라미터를 학습한 이후에 여태껏 본적 없는 데이터에 대해서 결과를 예측하기 위해 모델을 사용할 수 있다. \r\n",
        "# 여기에서는, logtistic regression model을 사용해서, 시험 1에 대해서 45점, 시험 2에 대해서 85점을\r\n",
        "# 받은 학생이 학교의 승인을 받을 확률을 예측한다.\r\n",
        "#\r\n",
        "# 더우기, 당신은 우리의 모델에 대해서 training과 test set 의 정확도를 계산할 수 있다.\r\n",
        "#\r\n",
        "# 당신의 작업은 predict.m 내의 코드를 완성하는 것이다.\r\n",
        "\r\n",
        "\r\n",
        "# predict 함수는 주어진 데이터와 theta를 이용해서 1 또는 0의 예측값을 만들어낸다.\r\n",
        "# 확률이 50% 를 넘으므로, 합격으로 예측한다.\r\n",
        "# array 에서 * 는 요소곱이다. 따라서 np.sum 을 이용해 곱의 합을 구한다.\r\n",
        "\r\n",
        "\r\n",
        "def predict(theta, X):\r\n",
        "    \"\"\"\r\n",
        "    학습된 logistic regression 파라미터 theta를 이용해서 label 이 0 또는 1인지를 예측한다.\r\n",
        "    이 함수는 0.5에서의 threshold를 이용해서 X에 대한 예측을 계산한다.\r\n",
        "    (즉, 만약 sigmoid(theta'*x) >= 0.5, 1로 예측함)\r\n",
        "    \"\"\"\r\n",
        "    \r\n",
        "    m = X.shape[0] # training exampels의 개수\r\n",
        "    \r\n",
        "    # 다음 변수를 올바르게 반환해야 한다.\r\n",
        "    p = np.zeros(m)\r\n",
        "    \r\n",
        "    # ====================== YOUR CODE HERE ======================\r\n",
        "    # 지시사항: 다음 코드를 완성해서 학습된 logistic regression 파라미터를\r\n",
        "    # 이용한 예측을 해보아라.\r\n",
        "    # p는 0또는 1의 벡터로 설정되어야 한다.\r\n",
        "    \r\n",
        "    p = sigmoid(X.dot(theta)) >= 0.5;\r\n",
        "    \r\n",
        "    return p\r\n",
        "    \r\n",
        "\"\"\"\r\n",
        "In Octave/MATLAB: \r\n",
        "\r\n",
        "theta =\r\n",
        "\r\n",
        "  -25.16127\r\n",
        "    0.20623\r\n",
        "    0.20147\r\n",
        "\"\"\"\r\n",
        "# exam 1의 점수 45점과 exam 2의 점수 85점을 받은 학생에 대해서 예측한다.\r\n",
        "prob = sigmoid(np.sum(np.array([1, 45, 85]) * theta))\r\n",
        "\r\n",
        "print('For a student with scores 45 and 85, we predict an admission probability of %f' % prob)\r\n",
        "\r\n",
        "\r\n",
        "# training set 에 대한 정확도(accuracy)를 계산한다.\r\n",
        "# Train Accuracy: 89.000000\r\n",
        "p = predict(theta, X_1)\r\n",
        "\r\n",
        "print('Train Accuracy: %f' % (np.mean(np.double(p == y)) * 100))\r\n",
        "\r\n",
        "\"\"\"\r\n",
        "In Octave/MATLAB: \r\n",
        "\r\n",
        "For a student with scores 45 and 85, we predict an admission probability of 0.776289\r\n",
        "\r\n",
        "Train Accuracy: 89.000000\r\n",
        "\"\"\"\r\n",
        "print()\r\n"
      ],
      "execution_count": 47,
      "outputs": [
        {
          "output_type": "stream",
          "text": [
            "For a student with scores 45 and 85, we predict an admission probability of 0.776291\n",
            "Train Accuracy: 89.000000\n",
            "\n"
          ],
          "name": "stdout"
        }
      ]
    },
    {
      "cell_type": "markdown",
      "metadata": {
        "id": "Vj-a0OjpVlZf"
      },
      "source": [
        "**2. Regularized logistic regression**\r\n",
        "\r\n",
        "2.1 Visualizing the data\r\n"
      ]
    },
    {
      "cell_type": "code",
      "metadata": {
        "colab": {
          "base_uri": "https://localhost:8080/",
          "height": 297
        },
        "id": "RdNG1XEIW5rj",
        "outputId": "776fada6-c88d-4c27-9d92-da3374d4fcce"
      },
      "source": [
        "## Machine Learning Online Class - Exercise 2: Logistic Regression\r\n",
        "\r\n",
        "import numpy as np\r\n",
        "import matplotlib.pyplot as plt\r\n",
        "\r\n",
        "# 데이터를 로드한다.\r\n",
        "# 처음 2개의 컬럼은 X 값을 포함하고 세번째 컬럼은 label (y)를 포함한다.\r\n",
        "\r\n",
        "data = np.loadtxt('ex2data2.txt', delimiter=',')\r\n",
        "X = data[:, 0:2]\r\n",
        "y = data[:, 2]\r\n",
        "\r\n",
        "plotData(X, y)\r\n",
        "\r\n",
        "# 라벨과 legend 설정\r\n",
        "plt.xlabel('Microchip Test 1')\r\n",
        "plt.ylabel('Microchip Test 2')\r\n",
        "\r\n",
        "# plot 순서로 지정한다.\r\n",
        "plt.legend(('y=1', 'y=0'), loc='upper right')"
      ],
      "execution_count": 48,
      "outputs": [
        {
          "output_type": "execute_result",
          "data": {
            "text/plain": [
              "<matplotlib.legend.Legend at 0x7fc9b7282240>"
            ]
          },
          "metadata": {
            "tags": []
          },
          "execution_count": 48
        },
        {
          "output_type": "display_data",
          "data": {
            "image/png": "[encoded data removed]",
            "text/plain": [
              "<Figure size 432x288 with 1 Axes>"
            ]
          },
          "metadata": {
            "tags": [],
            "needs_background": "light"
          }
        }
      ]
    },
    {
      "cell_type": "markdown",
      "metadata": {
        "id": "hNqTVwGYXSJH"
      },
      "source": [
        "**2.2 Feature mapping**\r\n",
        "\r\n",
        "data를 더 잘 맞게(fit) 하는 방법은 각각의 data point 로 부터 더 많은 feature를 생성하는 것이다. 제공된 함수 mapFeature.m 에서 feature들을 다항식 항목인 x1과 x2를 이용해서 6차까지 매핑할 것이다."
      ]
    },
    {
      "cell_type": "code",
      "metadata": {
        "colab": {
          "base_uri": "https://localhost:8080/"
        },
        "id": "nK6KiPo8XFJ_",
        "outputId": "f616d35c-6662-40ea-fedd-890773ff2f64"
      },
      "source": [
        "## =========== Part 1: Regularized Logistic Regression ============\r\n",
        "# 이 파트에서, 선형으로 분리될 수 없는 데이터 포인트를 가진 데이터셋이\r\n",
        "# 주어진다. 어쨌든, 당신은 logtistic regression을 사용해서 데이터 포인트를\r\n",
        "# 분류하고 싶어할 것이다.\r\n",
        "#\r\n",
        "# 그렇게 하기 위해서, 당신은 더 많은 feature를 사용해야 하는데 -- 특별히 \r\n",
        "# 데이터 행렬에 polynomial features를 추가한다. (polynomial regression과 유사하다)\r\n",
        "\r\n",
        "# Polynomial features를 추가한다.\r\n",
        "# mapFeature는 intercept term(절편 항목)인 1의 컬럼을 추가한다.\r\n",
        "\r\n",
        "def mapFeature(X1, X2):\r\n",
        "    \"\"\"\r\n",
        "    polynomial features로 feature를 매핑하는 함수이다.\r\n",
        "    \r\n",
        "    이 함수는 2개의 입력 features를 regularization 연습문제에 사용되는\r\n",
        "    quadratic features로 매핑한다.\r\n",
        "    \r\n",
        "    더 많은 features를 가진 새로운 feature를 반환하는데, \r\n",
        "    X1, X2, X1.^2, X2.^2, X1*X2, X1*X2.^2 등으로 구성되어 있다.\r\n",
        "    \r\n",
        "    입력 X1, X2는 동일한 사이즈여야 한다.\r\n",
        "    \"\"\"\r\n",
        "    \r\n",
        "    degree = 6\r\n",
        "    \r\n",
        "    #print(X1.shape)\r\n",
        "    \r\n",
        "    m = np.size(X1)\r\n",
        "    out = np.ones(m) # 1로 채워진 절편 컬럼 벡터\r\n",
        "    \r\n",
        "    # XXX: 벡터 단위로 계산된 내용을 list에 추가하는 방식이 편하다.\r\n",
        "    # 계산된 컬럼 벡터를 list에 추가한다.\r\n",
        "    # res = [[1,1,1,], [2,2,2,], [3,3,3,]]\r\n",
        "    res = []\r\n",
        "    res.append(out)\r\n",
        "    \r\n",
        "    for i in np.arange(1, degree + 1):\r\n",
        "        for j in np.arange(0, i + 1):\r\n",
        "            # ***************************************************************\r\n",
        "            # XXX: 아래와 같은 수식은 어떻게 만드는걸까?\r\n",
        "            # ***************************************************************\r\n",
        "            out1 = (X1 ** (i - j)) * (X2 ** j)\r\n",
        "            res.append(out1)\r\n",
        "    \r\n",
        "    # list에 저장된 것을 2차원 array 벡터로 변환하고 전치 시켜서 반환한다.\r\n",
        "    return np.array(res).T\r\n",
        "\r\n",
        "def costFunctionReg(theta, X, y, s_lambda):\r\n",
        "    \r\n",
        "    \"\"\"\r\n",
        "    regularization을 가진 logistic regression에 대한 cost와 gradient를 계산한다.\r\n",
        "    이 함수는 regularized logistic regression에 대한 파라미터로 theta를 사용해서 cost를\r\n",
        "    계산한다. 그리고 파라미터에 일치하는 cost의 gradient를 계산한다.\r\n",
        "    \"\"\"\r\n",
        "\r\n",
        "    # 몇몇 유용한 변수를 초기화한다.\r\n",
        "    m, n = X.shape\r\n",
        "    #m = np.size(y) # training examples 갯수\r\n",
        "    \r\n",
        "    # 아래 값을 올바르게 반환해야 한다.\r\n",
        "    J = 0\r\n",
        "    grad = np.zeros(np.size(theta))\r\n",
        "    \r\n",
        "    # ====================== YOUR CODE HERE ======================\r\n",
        "    # 특정 theta에 대한 cost를 계산한다.\r\n",
        "    # 편미분을 계산하고 grad를 theta 내의 각 파라미터에 관한 cost의\r\n",
        "    # 편미분 값으로 설정한다.\r\n",
        "    \r\n",
        "    \"\"\"\r\n",
        "    cost는 J 값으로 설정한다. 편미분을 계산하고 결과를 grad에 설정한다.\r\n",
        "    \r\n",
        "    힌트: cost 함수와 gradient 계산은 효율적으로 벡터화될 수 있다. 예를 들어 다음\r\n",
        "    계산을 생각해보자. \r\n",
        "    \r\n",
        "    sigmoid(X * theta)\r\n",
        "    \r\n",
        "    결과 행렬의 각 row는 해당 example의 예측값이 된다. \r\n",
        "    \r\n",
        "    힌트: regularized cost 함수의 gradient를 계산할 때, 많은 벡터화 솔루션이 있지만\r\n",
        "    한가지 가능한 방법은 아래와 같다\r\n",
        "    \r\n",
        "    grad = (unregularized gradient for logistic regression)\r\n",
        "    temp = theta; \r\n",
        "    temp(1) = 0;   % because we don't add anything for j = 0  \r\n",
        "    grad = grad + YOUR_CODE_HERE (using the temp variable)\r\n",
        " \r\n",
        "    \"\"\"\r\n",
        "    \r\n",
        "    # sum_theta_square는 theta[0]를 포함하지 않는다. \r\n",
        "    sum_theta_square = np.sum(theta[1:] ** 2)\r\n",
        "    \r\n",
        "    # 예측값을 계산한다.\r\n",
        "    X_theta = X.dot(theta)\r\n",
        "    prediction = sigmoid(X_theta)\r\n",
        "\r\n",
        "    # 1) cost J를 계산한다.\r\n",
        "    J = 1/m * np.sum(-y * np.log(prediction) - (1 - y) * np.log(1 - prediction)) \\\r\n",
        "        + s_lambda / (2 * m) * sum_theta_square\r\n",
        "        \r\n",
        "    # 2) 편미분을 계산한다.\r\n",
        "    error = prediction - y\r\n",
        "    delta = 1/m * error.T.dot(X)\r\n",
        "    \r\n",
        "    temp = theta\r\n",
        "    temp[0] = 0\r\n",
        "    regular = (s_lambda / m) * temp\r\n",
        "    \r\n",
        "    grad = delta + regular\r\n",
        "    \r\n",
        "    return J, grad\r\n",
        "\r\n",
        "# mapFeature는 1의 컬럼을 추가하고 있음을 주의해라. 따라서 절편 항목은 처리된다.\r\n",
        "# X_reg: 118 x 28 dimension, 절편이 포함되어 있다.\r\n",
        "X_reg = mapFeature(X[:, 0], X[:, 1])\r\n",
        "\r\n",
        "#print(X_reg[0:2, :])\r\n",
        "\r\n",
        "# fitting 파라미터를 초기화한다.\r\n",
        "initial_theta = np.zeros(X_reg.shape[1]) # initial_theta: 28 x 1\r\n",
        "\r\n",
        "# regularization 파라미터 lambda를 1로 설정한다.\r\n",
        "# lambda 는 python 키워드이기 때문에 변수명을 s_lambda로 사용한다.\r\n",
        "s_lambda = 1\r\n",
        "\r\n",
        "# regularized logistic regression 에 대한 초기 cost 와 gradient 를 계산하고 표시한다.\r\n",
        "cost, grad = costFunctionReg(initial_theta, X_reg, y, s_lambda)\r\n",
        "\r\n",
        "# cost is 0.69314718056 and grad is [  8.47457627e-03   1.87880932e-02   7.77711864e-05   5.03446395e-02\r\n",
        "print('Cost at initial theta (zeros): %f' % cost)"
      ],
      "execution_count": 49,
      "outputs": [
        {
          "output_type": "stream",
          "text": [
            "Cost at initial theta (zeros): 0.693147\n"
          ],
          "name": "stdout"
        }
      ]
    },
    {
      "cell_type": "markdown",
      "metadata": {
        "id": "8GXT_rgteUY5"
      },
      "source": [
        "**Regualrization and Accuracies**\r\n",
        "\r\n",
        "여기서는 lambda값을 서로 다르게 했을 때, regularization 이 decision boundary에 어떤 영향을 미치는지 알아보도록 한다.\r\n",
        "\r\n",
        "lambda를 0, 1, 10, 100으로 각각 설정해본다."
      ]
    },
    {
      "cell_type": "code",
      "metadata": {
        "colab": {
          "base_uri": "https://localhost:8080/"
        },
        "id": "5cLOjKx9eRrX",
        "outputId": "7e7d4d9a-0f87-449b-dc93-19029b1e212d"
      },
      "source": [
        "# ============= Part 2: Regularization and Accuracies =============\r\n",
        "# Optional Exercise:\r\n",
        "# 여기에서, 당신은 서로 다른 lambda 값을 시도해보고 regularization이 \r\n",
        "# 어떻게 decision coundart에 영향을 주는지 보게 될 것이다.\r\n",
        "#\r\n",
        "# lambda를 다음 값으로 시도해 보라 (0, 1, 10, 100)\r\n",
        "#\r\n",
        "# lambda가 변할 때, decision boundary는 어떻게 변화하는가? training set의\r\n",
        "# 정확도는 어떻게 변화하는가?\r\n",
        "\r\n",
        "# minimize 함수 호출을 사용하기 위해 import 한다.\r\n",
        "import scipy.optimize as op\r\n",
        "\r\n",
        "# octave 에서는 costFunction 안에서 cost와 gradient를 한꺼번에 계산했다.\r\n",
        "# python 에서는 minimize () 사용을 위해서 cost와 gradient 계산을 분리한다.\r\n",
        "\r\n",
        "\r\n",
        "# fitting 파라미터를 초기화한다.\r\n",
        "initial_theta = np.zeros(X_reg.shape[1])\r\n",
        "\r\n",
        "\r\n",
        "# regularization 파라미터 lambda를 1로 설정한다. (이 값을 변화시켜야 한다)\r\n",
        "#s_lambda = 0 # cost = 0.257\r\n",
        "s_lambda = 1 # cost = 0.529\r\n",
        "#s_lambda = 10 # cost = 0.648\r\n",
        "#s_lambda = 100 # cost = 0.686\r\n",
        "\r\n",
        "# Options를 설저한다.\r\n",
        "# options = optimset('GradObj', 'on', 'MaxIter', 400);\r\n",
        "\r\n",
        "# Optimize\r\n",
        "\r\n",
        "# costFunctionReg(theta, X, y, s_lambda)\r\n",
        "costFunc = lambda p: costFunctionReg(p, X_reg, y, s_lambda)[0]\r\n",
        "gradFunc = lambda p: costFunctionReg(p, X_reg, y, s_lambda)[1]\r\n",
        "\r\n",
        "# method: CG => OK / TNC => NOK\r\n",
        "Result = op.minimize(fun = costFunc, x0 = initial_theta, \\\r\n",
        "                     method = 'CG', jac = gradFunc, options = {'maxiter': 400});\r\n",
        "\r\n",
        "cost = Result.fun\r\n",
        "theta = Result.x\r\n",
        "\r\n",
        "# In Octave: Cost at theta found by fminunc: 0.529004\r\n",
        "print('Cost at theta found by fminunc: %s. \\n' % cost)\r\n",
        "print('theta: ')\r\n",
        "print(' %s' % theta)\r\n",
        "\r\n",
        "\"\"\"\r\n",
        "In Octave: \r\n",
        "theta: \r\n",
        " 1.273005 \r\n",
        " 0.624876 \r\n",
        " 1.177376 \r\n",
        " -2.020142 \r\n",
        " -0.912616 \r\n",
        " -1.429907 \r\n",
        "\"\"\"\r\n",
        "print()"
      ],
      "execution_count": 50,
      "outputs": [
        {
          "output_type": "stream",
          "text": [
            "Cost at theta found by fminunc: 0.5290027310062209. \n",
            "\n",
            "theta: \n",
            " [ 1.2726322   0.62526851  1.18110054 -2.01977776 -0.91750969 -1.43140105\n",
            "  0.12396937 -0.36542088 -0.35720348 -0.17516018 -1.45817405 -0.05109747\n",
            " -0.61556197 -0.2747374  -1.19275643 -0.24225813 -0.20594332 -0.04478629\n",
            " -0.27777193 -0.29534671 -0.45647333 -1.04328679  0.02771439 -0.29243876\n",
            "  0.01551392 -0.3273817  -0.14391016 -0.92473298]\n",
            "\n"
          ],
          "name": "stdout"
        }
      ]
    },
    {
      "cell_type": "code",
      "metadata": {
        "colab": {
          "base_uri": "https://localhost:8080/",
          "height": 338
        },
        "id": "_yz2PcCWehUH",
        "outputId": "2c922485-1509-400e-89be-984f6ba14522"
      },
      "source": [
        "# 경계선을 그린다.\r\n",
        "plotDecisionBoundary(theta, X_reg, y)\r\n",
        "plt.xlabel('Microchip Test 1')\r\n",
        "plt.ylabel('Microchip Test 2')\r\n",
        "\r\n",
        "plt.legend(('y=1', 'y=0', 'Decision boundary'), loc='upper right')"
      ],
      "execution_count": 51,
      "outputs": [
        {
          "output_type": "stream",
          "text": [
            "/usr/local/lib/python3.6/dist-packages/ipykernel_launcher.py:47: VisibleDeprecationWarning: Creating an ndarray from ragged nested sequences (which is a list-or-tuple of lists-or-tuples-or ndarrays with different lengths or shapes) is deprecated. If you meant to do this, you must specify 'dtype=object' when creating the ndarray\n"
          ],
          "name": "stderr"
        },
        {
          "output_type": "execute_result",
          "data": {
            "text/plain": [
              "<matplotlib.legend.Legend at 0x7fc9c39cf240>"
            ]
          },
          "metadata": {
            "tags": []
          },
          "execution_count": 51
        },
        {
          "output_type": "display_data",
          "data": {
            "image/png": "[encoded data removed]",
            "text/plain": [
              "<Figure size 432x288 with 1 Axes>"
            ]
          },
          "metadata": {
            "tags": [],
            "needs_background": "light"
          }
        }
      ]
    },
    {
      "cell_type": "code",
      "metadata": {
        "id": "wq6Sv95NfUyX",
        "outputId": "085df395-b880-4366-96a1-ee8c1035cea7",
        "colab": {
          "base_uri": "https://localhost:8080/"
        }
      },
      "source": [
        "# training set에 대한 정확도(accuracy)를 계산한다.\r\n",
        "p = predict(theta, X_reg)\r\n",
        "\r\n",
        "# In Octave: Train Accuracy: 83.050847\r\n",
        "print('Train Accuracy: ', np.mean(np.double(p == y)) * 100)"
      ],
      "execution_count": 53,
      "outputs": [
        {
          "output_type": "stream",
          "text": [
            "Train Accuracy:  83.05084745762711\n"
          ],
          "name": "stdout"
        }
      ]
    }
  ]
}